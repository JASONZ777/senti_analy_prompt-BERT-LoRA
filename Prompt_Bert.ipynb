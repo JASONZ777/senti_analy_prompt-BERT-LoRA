{
  "cells": [
    {
      "cell_type": "markdown",
      "metadata": {
        "id": "view-in-github",
        "colab_type": "text"
      },
      "source": [
        "<a href=\"https://colab.research.google.com/github/JASONZ777/senti_analy_prompt-BERT-LoRA/blob/main/senti_ana.ipynb\" target=\"_parent\"><img src=\"https://colab.research.google.com/assets/colab-badge.svg\" alt=\"Open In Colab\"/></a>"
      ]
    },
    {
      "cell_type": "markdown",
      "metadata": {
        "id": "d9p4kUCHeYZp"
      },
      "source": [
        "## Design a hard prompt"
      ]
    },
    {
      "cell_type": "markdown",
      "metadata": {
        "id": "hOAwEbKveYZr"
      },
      "source": [
        "# Method 1: Prompt-BERT (add a classification layer)"
      ]
    },
    {
      "cell_type": "code",
      "execution_count": null,
      "metadata": {
        "id": "V-wEtjkOeYZr"
      },
      "outputs": [],
      "source": [
        "import os\n",
        "os.environ['KMP_DUPLICATE_LIB_OK']='True'"
      ]
    },
    {
      "cell_type": "code",
      "execution_count": null,
      "metadata": {
        "id": "CP2jHdg9eYZs"
      },
      "outputs": [],
      "source": [
        "# define a hard prompt, and its ID\n",
        "def get_prompt(x):\n",
        "    prompt = f'总体上来说很[MASK]: {x}'\n",
        "    return {\n",
        "        'prompt': prompt,\n",
        "        'mask_id': prompt.find('[MASK]') # since only one [MASK], find the ID\n",
        "    }\n",
        "\n",
        "# map the label to the word in the dictionary\n",
        "# (tokenizer, words with similiar meanings have similar embeddings, that's why we could calculate the loss)\n",
        "def map_label(tokenizer):\n",
        "    return {\n",
        "        '1': {'token': '好', 'id': tokenizer.convert_tokens_to_ids(\"好\")},\n",
        "        '0': {'token': '差', 'id': tokenizer.convert_tokens_to_ids(\"差\")}\n",
        "    }\n"
      ]
    },
    {
      "cell_type": "code",
      "execution_count": null,
      "metadata": {
        "id": "ZXEWZwRBeYZs",
        "outputId": "867d108f-dd1c-46a2-b2fb-60e091b7a9fe"
      },
      "outputs": [
        {
          "name": "stderr",
          "output_type": "stream",
          "text": [
            "c:\\Users\\JASONZ7\\.conda\\envs\\pytorch\\lib\\site-packages\\tqdm\\auto.py:22: TqdmWarning: IProgress not found. Please update jupyter and ipywidgets. See https://ipywidgets.readthedocs.io/en/stable/user_install.html\n",
            "  from .autonotebook import tqdm as notebook_tqdm\n"
          ]
        },
        {
          "name": "stdout",
          "output_type": "stream",
          "text": [
            "verbalizer: {'1': {'token': '好', 'id': 1962}, '0': {'token': '差', 'id': 2345}}\n",
            "prompt: 总体上来说很[MASK]: 这个宾馆比较陈旧了，特价的房间也很一般。\n",
            "prompt tokens: ['[CLS]', '总', '体', '上', '来', '说', '很', '[MASK]', ':', '这', '个', '宾', '馆', '比', '较', '陈', '旧', '了', '，', '特', '价', '的', '房', '间', '也', '很', '一', '般', '。', '[SEP]']\n",
            "mask idx: 7\n"
          ]
        }
      ],
      "source": [
        "# a testing from Huggingface\n",
        "from transformers import AutoTokenizer\n",
        "\n",
        "checkpoint = \"bert-base-chinese\"\n",
        "tokenizer = AutoTokenizer.from_pretrained(checkpoint)\n",
        "\n",
        "comment = '这个宾馆比较陈旧了，特价的房间也很一般。'\n",
        "\n",
        "print('verbalizer:', map_label(tokenizer))\n",
        "\n",
        "prompt_data = get_prompt(comment)\n",
        "prompt, mask_offset = prompt_data['prompt'], prompt_data['mask_id']\n",
        "\n",
        "encoding = tokenizer(prompt, truncation=True)\n",
        "tokens = encoding.tokens()\n",
        "mask_idx = encoding.char_to_token(mask_offset)\n",
        "\n",
        "print('prompt:', prompt)\n",
        "print('prompt tokens:', tokens)\n",
        "print('mask idx:', mask_idx)"
      ]
    },
    {
      "cell_type": "markdown",
      "metadata": {
        "id": "ZWF5aCp7eYZt"
      },
      "source": [
        "## Upload dataset combined with prompts"
      ]
    },
    {
      "cell_type": "code",
      "execution_count": null,
      "metadata": {
        "id": "Rp5COznYeYZt"
      },
      "outputs": [],
      "source": [
        "from torch.utils.data import Dataset\n",
        "\n",
        "class upload_dataset(Dataset):\n",
        "    def __init__(self, data_file):\n",
        "        self.data = self.load_data(data_file)\n",
        "\n",
        "    def load_data(self, data_file):\n",
        "        Data = {}\n",
        "        with open(data_file, 'rt', encoding='utf-8') as f:\n",
        "            for idx, line in enumerate(f):\n",
        "                items = line.strip().split('\\t')\n",
        "                prompts = get_prompt(items[0])\n",
        "                assert len(items) == 2\n",
        "                Data[idx] = {\n",
        "                    'comment': items[0],\n",
        "                    'label': int(items[1]),\n",
        "                    'prompt': prompts['prompt'],\n",
        "                    'mask_id': prompts['mask_id']\n",
        "                }\n",
        "        return Data\n",
        "\n",
        "    def __len__(self):\n",
        "        return len(self.data)\n",
        "\n",
        "    def __getitem__(self, idx):\n",
        "        return self.data[idx]"
      ]
    },
    {
      "cell_type": "code",
      "execution_count": null,
      "metadata": {
        "id": "No2fI35DeYZt",
        "outputId": "323d36c2-081d-4a9f-a59a-44de6ec0e06c"
      },
      "outputs": [
        {
          "name": "stdout",
          "output_type": "stream",
          "text": [
            "train set size: 9600\n",
            "valid set size: 1200\n",
            "test set size: 1200\n",
            "{'comment': '选择珠江花园的原因就是方便，有电动扶梯直接到达海边，周围餐馆、食廊、商场、超市、摊位一应俱全。酒店装修一般，但还算整洁。 泳池在大堂的屋顶，因此很小，不过女儿倒是喜欢。 包的早餐是西式的，还算丰富。 服务吗，一般', 'label': 1, 'prompt': '总体上来说很[MASK]: 选择珠江花园的原因就是方便，有电动扶梯直接到达海边，周围餐馆、食廊、商场、超市、摊位一应俱全。酒店装修一般，但还算整洁。 泳池在大堂的屋顶，因此很小，不过女儿倒是喜欢。 包的早餐是西式的，还算丰富。 服务吗，一般', 'mask_id': 6}\n"
          ]
        }
      ],
      "source": [
        "# testing\n",
        "train_data = upload_dataset('chnsenticorp/train/part.0')\n",
        "valid_data = upload_dataset('chnsenticorp/dev/part.0')\n",
        "test_data = upload_dataset('chnsenticorp/test/part.0')\n",
        "print(f'train set size: {len(train_data)}')\n",
        "print(f'valid set size: {len(valid_data)}')\n",
        "print(f'test set size: {len(test_data)}')\n",
        "print(next(iter(train_data)))"
      ]
    },
    {
      "cell_type": "markdown",
      "metadata": {
        "id": "e3VL6E4zeYZu"
      },
      "source": [
        "## Data preprocessing"
      ]
    },
    {
      "cell_type": "code",
      "execution_count": null,
      "metadata": {
        "id": "IcObnKk3eYZu"
      },
      "outputs": [],
      "source": [
        "import torch\n",
        "import numpy as np\n",
        "from torch.utils.data import DataLoader\n",
        "from transformers import AutoTokenizer\n",
        "checkpoint = 'bert-base-chinese'\n",
        "tokenizer = AutoTokenizer.from_pretrained(checkpoint)\n",
        "# find the id of the label defined in tokenizer\n",
        "label = map_label(tokenizer)\n",
        "pos_id, neg_id = label['1']['id'], label['0']['id']\n",
        "# Dataloader, in NLP we usually use collate_fn to do the padding to make sure samples have the same sequence length\n",
        "def collate(batch_samples): # operate on each batch\n",
        "    batch_sentence = []\n",
        "    batch_label = []\n",
        "    batch_mask_id = []\n",
        "    max_length = 0\n",
        "    for sample in batch_samples:\n",
        "        batch_sentence.append(sample['prompt'])\n",
        "        encoding = tokenizer(sample['prompt'], truncation=True)\n",
        "        max_length = max(max_length, len(encoding.tokens())) # dynamic padding to the longest\n",
        "        mask_idx = encoding.char_to_token(sample['mask_id']) # convert the character id of mask in prompts to token id in tokenized sentence\n",
        "        batch_mask_id.append(mask_idx) # if pre-fix prompt, mask id will be the same\n",
        "        batch_label.append(sample['label'])\n",
        "    batch_inputs = tokenizer(batch_sentence, max_length=max_length, padding=True, truncation=True, return_tensors=\"pt\")\n",
        "    label_id = [neg_id, pos_id]\n",
        "    return {\n",
        "        'batch_inputs':batch_inputs,\n",
        "        'batch_mask_id': batch_mask_id,\n",
        "        'label_id': label_id,\n",
        "        'labels': batch_label\n",
        "\n",
        "    }\n"
      ]
    },
    {
      "cell_type": "code",
      "execution_count": null,
      "metadata": {
        "id": "eFP86aikeYZu"
      },
      "outputs": [],
      "source": [
        "# a testing for dataloader\n",
        "# batch_data = next(iter(train_loader))\n",
        "# print('batch_X shape:', {k: v.shape for k, v in batch_data['batch_inputs'].items()})\n",
        "# print(batch_data['batch_inputs'])\n",
        "# print(batch_data['batch_mask_id'])\n",
        "# print(batch_data['label_id'])\n",
        "# print(batch_data['labels'])"
      ]
    },
    {
      "cell_type": "markdown",
      "metadata": {
        "id": "XcYMnkxReYZu"
      },
      "source": [
        "## Build the model"
      ]
    },
    {
      "cell_type": "markdown",
      "metadata": {
        "id": "SGoGX-fxeYZu"
      },
      "source": [
        "Look into the structure of the pre-trained model"
      ]
    },
    {
      "cell_type": "code",
      "execution_count": null,
      "metadata": {
        "id": "REHcXNIeeYZu",
        "outputId": "cd6bb0ea-b1ff-47cb-aec4-65833997983c"
      },
      "outputs": [
        {
          "name": "stdout",
          "output_type": "stream",
          "text": [
            "BertModel(\n",
            "  (embeddings): BertEmbeddings(\n",
            "    (word_embeddings): Embedding(21128, 768, padding_idx=0)\n",
            "    (position_embeddings): Embedding(512, 768)\n",
            "    (token_type_embeddings): Embedding(2, 768)\n",
            "    (LayerNorm): LayerNorm((768,), eps=1e-12, elementwise_affine=True)\n",
            "    (dropout): Dropout(p=0.1, inplace=False)\n",
            "  )\n",
            "  (encoder): BertEncoder(\n",
            "    (layer): ModuleList(\n",
            "      (0): BertLayer(\n",
            "        (attention): BertAttention(\n",
            "          (self): BertSelfAttention(\n",
            "            (query): Linear(in_features=768, out_features=768, bias=True)\n",
            "            (key): Linear(in_features=768, out_features=768, bias=True)\n",
            "            (value): Linear(in_features=768, out_features=768, bias=True)\n",
            "            (dropout): Dropout(p=0.1, inplace=False)\n",
            "          )\n",
            "          (output): BertSelfOutput(\n",
            "            (dense): Linear(in_features=768, out_features=768, bias=True)\n",
            "            (LayerNorm): LayerNorm((768,), eps=1e-12, elementwise_affine=True)\n",
            "            (dropout): Dropout(p=0.1, inplace=False)\n",
            "          )\n",
            "        )\n",
            "        (intermediate): BertIntermediate(\n",
            "          (dense): Linear(in_features=768, out_features=3072, bias=True)\n",
            "          (intermediate_act_fn): GELUActivation()\n",
            "        )\n",
            "        (output): BertOutput(\n",
            "          (dense): Linear(in_features=3072, out_features=768, bias=True)\n",
            "          (LayerNorm): LayerNorm((768,), eps=1e-12, elementwise_affine=True)\n",
            "          (dropout): Dropout(p=0.1, inplace=False)\n",
            "        )\n",
            "      )\n",
            "      (1): BertLayer(\n",
            "        (attention): BertAttention(\n",
            "          (self): BertSelfAttention(\n",
            "            (query): Linear(in_features=768, out_features=768, bias=True)\n",
            "            (key): Linear(in_features=768, out_features=768, bias=True)\n",
            "            (value): Linear(in_features=768, out_features=768, bias=True)\n",
            "            (dropout): Dropout(p=0.1, inplace=False)\n",
            "          )\n",
            "          (output): BertSelfOutput(\n",
            "            (dense): Linear(in_features=768, out_features=768, bias=True)\n",
            "            (LayerNorm): LayerNorm((768,), eps=1e-12, elementwise_affine=True)\n",
            "            (dropout): Dropout(p=0.1, inplace=False)\n",
            "          )\n",
            "        )\n",
            "        (intermediate): BertIntermediate(\n",
            "          (dense): Linear(in_features=768, out_features=3072, bias=True)\n",
            "          (intermediate_act_fn): GELUActivation()\n",
            "        )\n",
            "        (output): BertOutput(\n",
            "          (dense): Linear(in_features=3072, out_features=768, bias=True)\n",
            "          (LayerNorm): LayerNorm((768,), eps=1e-12, elementwise_affine=True)\n",
            "          (dropout): Dropout(p=0.1, inplace=False)\n",
            "        )\n",
            "      )\n",
            "      (2): BertLayer(\n",
            "        (attention): BertAttention(\n",
            "          (self): BertSelfAttention(\n",
            "            (query): Linear(in_features=768, out_features=768, bias=True)\n",
            "            (key): Linear(in_features=768, out_features=768, bias=True)\n",
            "            (value): Linear(in_features=768, out_features=768, bias=True)\n",
            "            (dropout): Dropout(p=0.1, inplace=False)\n",
            "          )\n",
            "          (output): BertSelfOutput(\n",
            "            (dense): Linear(in_features=768, out_features=768, bias=True)\n",
            "            (LayerNorm): LayerNorm((768,), eps=1e-12, elementwise_affine=True)\n",
            "            (dropout): Dropout(p=0.1, inplace=False)\n",
            "          )\n",
            "        )\n",
            "        (intermediate): BertIntermediate(\n",
            "          (dense): Linear(in_features=768, out_features=3072, bias=True)\n",
            "          (intermediate_act_fn): GELUActivation()\n",
            "        )\n",
            "        (output): BertOutput(\n",
            "          (dense): Linear(in_features=3072, out_features=768, bias=True)\n",
            "          (LayerNorm): LayerNorm((768,), eps=1e-12, elementwise_affine=True)\n",
            "          (dropout): Dropout(p=0.1, inplace=False)\n",
            "        )\n",
            "      )\n",
            "      (3): BertLayer(\n",
            "        (attention): BertAttention(\n",
            "          (self): BertSelfAttention(\n",
            "            (query): Linear(in_features=768, out_features=768, bias=True)\n",
            "            (key): Linear(in_features=768, out_features=768, bias=True)\n",
            "            (value): Linear(in_features=768, out_features=768, bias=True)\n",
            "            (dropout): Dropout(p=0.1, inplace=False)\n",
            "          )\n",
            "          (output): BertSelfOutput(\n",
            "            (dense): Linear(in_features=768, out_features=768, bias=True)\n",
            "            (LayerNorm): LayerNorm((768,), eps=1e-12, elementwise_affine=True)\n",
            "            (dropout): Dropout(p=0.1, inplace=False)\n",
            "          )\n",
            "        )\n",
            "        (intermediate): BertIntermediate(\n",
            "          (dense): Linear(in_features=768, out_features=3072, bias=True)\n",
            "          (intermediate_act_fn): GELUActivation()\n",
            "        )\n",
            "        (output): BertOutput(\n",
            "          (dense): Linear(in_features=3072, out_features=768, bias=True)\n",
            "          (LayerNorm): LayerNorm((768,), eps=1e-12, elementwise_affine=True)\n",
            "          (dropout): Dropout(p=0.1, inplace=False)\n",
            "        )\n",
            "      )\n",
            "      (4): BertLayer(\n",
            "        (attention): BertAttention(\n",
            "          (self): BertSelfAttention(\n",
            "            (query): Linear(in_features=768, out_features=768, bias=True)\n",
            "            (key): Linear(in_features=768, out_features=768, bias=True)\n",
            "            (value): Linear(in_features=768, out_features=768, bias=True)\n",
            "            (dropout): Dropout(p=0.1, inplace=False)\n",
            "          )\n",
            "          (output): BertSelfOutput(\n",
            "            (dense): Linear(in_features=768, out_features=768, bias=True)\n",
            "            (LayerNorm): LayerNorm((768,), eps=1e-12, elementwise_affine=True)\n",
            "            (dropout): Dropout(p=0.1, inplace=False)\n",
            "          )\n",
            "        )\n",
            "        (intermediate): BertIntermediate(\n",
            "          (dense): Linear(in_features=768, out_features=3072, bias=True)\n",
            "          (intermediate_act_fn): GELUActivation()\n",
            "        )\n",
            "        (output): BertOutput(\n",
            "          (dense): Linear(in_features=3072, out_features=768, bias=True)\n",
            "          (LayerNorm): LayerNorm((768,), eps=1e-12, elementwise_affine=True)\n",
            "          (dropout): Dropout(p=0.1, inplace=False)\n",
            "        )\n",
            "      )\n",
            "      (5): BertLayer(\n",
            "        (attention): BertAttention(\n",
            "          (self): BertSelfAttention(\n",
            "            (query): Linear(in_features=768, out_features=768, bias=True)\n",
            "            (key): Linear(in_features=768, out_features=768, bias=True)\n",
            "            (value): Linear(in_features=768, out_features=768, bias=True)\n",
            "            (dropout): Dropout(p=0.1, inplace=False)\n",
            "          )\n",
            "          (output): BertSelfOutput(\n",
            "            (dense): Linear(in_features=768, out_features=768, bias=True)\n",
            "            (LayerNorm): LayerNorm((768,), eps=1e-12, elementwise_affine=True)\n",
            "            (dropout): Dropout(p=0.1, inplace=False)\n",
            "          )\n",
            "        )\n",
            "        (intermediate): BertIntermediate(\n",
            "          (dense): Linear(in_features=768, out_features=3072, bias=True)\n",
            "          (intermediate_act_fn): GELUActivation()\n",
            "        )\n",
            "        (output): BertOutput(\n",
            "          (dense): Linear(in_features=3072, out_features=768, bias=True)\n",
            "          (LayerNorm): LayerNorm((768,), eps=1e-12, elementwise_affine=True)\n",
            "          (dropout): Dropout(p=0.1, inplace=False)\n",
            "        )\n",
            "      )\n",
            "      (6): BertLayer(\n",
            "        (attention): BertAttention(\n",
            "          (self): BertSelfAttention(\n",
            "            (query): Linear(in_features=768, out_features=768, bias=True)\n",
            "            (key): Linear(in_features=768, out_features=768, bias=True)\n",
            "            (value): Linear(in_features=768, out_features=768, bias=True)\n",
            "            (dropout): Dropout(p=0.1, inplace=False)\n",
            "          )\n",
            "          (output): BertSelfOutput(\n",
            "            (dense): Linear(in_features=768, out_features=768, bias=True)\n",
            "            (LayerNorm): LayerNorm((768,), eps=1e-12, elementwise_affine=True)\n",
            "            (dropout): Dropout(p=0.1, inplace=False)\n",
            "          )\n",
            "        )\n",
            "        (intermediate): BertIntermediate(\n",
            "          (dense): Linear(in_features=768, out_features=3072, bias=True)\n",
            "          (intermediate_act_fn): GELUActivation()\n",
            "        )\n",
            "        (output): BertOutput(\n",
            "          (dense): Linear(in_features=3072, out_features=768, bias=True)\n",
            "          (LayerNorm): LayerNorm((768,), eps=1e-12, elementwise_affine=True)\n",
            "          (dropout): Dropout(p=0.1, inplace=False)\n",
            "        )\n",
            "      )\n",
            "      (7): BertLayer(\n",
            "        (attention): BertAttention(\n",
            "          (self): BertSelfAttention(\n",
            "            (query): Linear(in_features=768, out_features=768, bias=True)\n",
            "            (key): Linear(in_features=768, out_features=768, bias=True)\n",
            "            (value): Linear(in_features=768, out_features=768, bias=True)\n",
            "            (dropout): Dropout(p=0.1, inplace=False)\n",
            "          )\n",
            "          (output): BertSelfOutput(\n",
            "            (dense): Linear(in_features=768, out_features=768, bias=True)\n",
            "            (LayerNorm): LayerNorm((768,), eps=1e-12, elementwise_affine=True)\n",
            "            (dropout): Dropout(p=0.1, inplace=False)\n",
            "          )\n",
            "        )\n",
            "        (intermediate): BertIntermediate(\n",
            "          (dense): Linear(in_features=768, out_features=3072, bias=True)\n",
            "          (intermediate_act_fn): GELUActivation()\n",
            "        )\n",
            "        (output): BertOutput(\n",
            "          (dense): Linear(in_features=3072, out_features=768, bias=True)\n",
            "          (LayerNorm): LayerNorm((768,), eps=1e-12, elementwise_affine=True)\n",
            "          (dropout): Dropout(p=0.1, inplace=False)\n",
            "        )\n",
            "      )\n",
            "      (8): BertLayer(\n",
            "        (attention): BertAttention(\n",
            "          (self): BertSelfAttention(\n",
            "            (query): Linear(in_features=768, out_features=768, bias=True)\n",
            "            (key): Linear(in_features=768, out_features=768, bias=True)\n",
            "            (value): Linear(in_features=768, out_features=768, bias=True)\n",
            "            (dropout): Dropout(p=0.1, inplace=False)\n",
            "          )\n",
            "          (output): BertSelfOutput(\n",
            "            (dense): Linear(in_features=768, out_features=768, bias=True)\n",
            "            (LayerNorm): LayerNorm((768,), eps=1e-12, elementwise_affine=True)\n",
            "            (dropout): Dropout(p=0.1, inplace=False)\n",
            "          )\n",
            "        )\n",
            "        (intermediate): BertIntermediate(\n",
            "          (dense): Linear(in_features=768, out_features=3072, bias=True)\n",
            "          (intermediate_act_fn): GELUActivation()\n",
            "        )\n",
            "        (output): BertOutput(\n",
            "          (dense): Linear(in_features=3072, out_features=768, bias=True)\n",
            "          (LayerNorm): LayerNorm((768,), eps=1e-12, elementwise_affine=True)\n",
            "          (dropout): Dropout(p=0.1, inplace=False)\n",
            "        )\n",
            "      )\n",
            "      (9): BertLayer(\n",
            "        (attention): BertAttention(\n",
            "          (self): BertSelfAttention(\n",
            "            (query): Linear(in_features=768, out_features=768, bias=True)\n",
            "            (key): Linear(in_features=768, out_features=768, bias=True)\n",
            "            (value): Linear(in_features=768, out_features=768, bias=True)\n",
            "            (dropout): Dropout(p=0.1, inplace=False)\n",
            "          )\n",
            "          (output): BertSelfOutput(\n",
            "            (dense): Linear(in_features=768, out_features=768, bias=True)\n",
            "            (LayerNorm): LayerNorm((768,), eps=1e-12, elementwise_affine=True)\n",
            "            (dropout): Dropout(p=0.1, inplace=False)\n",
            "          )\n",
            "        )\n",
            "        (intermediate): BertIntermediate(\n",
            "          (dense): Linear(in_features=768, out_features=3072, bias=True)\n",
            "          (intermediate_act_fn): GELUActivation()\n",
            "        )\n",
            "        (output): BertOutput(\n",
            "          (dense): Linear(in_features=3072, out_features=768, bias=True)\n",
            "          (LayerNorm): LayerNorm((768,), eps=1e-12, elementwise_affine=True)\n",
            "          (dropout): Dropout(p=0.1, inplace=False)\n",
            "        )\n",
            "      )\n",
            "      (10): BertLayer(\n",
            "        (attention): BertAttention(\n",
            "          (self): BertSelfAttention(\n",
            "            (query): Linear(in_features=768, out_features=768, bias=True)\n",
            "            (key): Linear(in_features=768, out_features=768, bias=True)\n",
            "            (value): Linear(in_features=768, out_features=768, bias=True)\n",
            "            (dropout): Dropout(p=0.1, inplace=False)\n",
            "          )\n",
            "          (output): BertSelfOutput(\n",
            "            (dense): Linear(in_features=768, out_features=768, bias=True)\n",
            "            (LayerNorm): LayerNorm((768,), eps=1e-12, elementwise_affine=True)\n",
            "            (dropout): Dropout(p=0.1, inplace=False)\n",
            "          )\n",
            "        )\n",
            "        (intermediate): BertIntermediate(\n",
            "          (dense): Linear(in_features=768, out_features=3072, bias=True)\n",
            "          (intermediate_act_fn): GELUActivation()\n",
            "        )\n",
            "        (output): BertOutput(\n",
            "          (dense): Linear(in_features=3072, out_features=768, bias=True)\n",
            "          (LayerNorm): LayerNorm((768,), eps=1e-12, elementwise_affine=True)\n",
            "          (dropout): Dropout(p=0.1, inplace=False)\n",
            "        )\n",
            "      )\n",
            "      (11): BertLayer(\n",
            "        (attention): BertAttention(\n",
            "          (self): BertSelfAttention(\n",
            "            (query): Linear(in_features=768, out_features=768, bias=True)\n",
            "            (key): Linear(in_features=768, out_features=768, bias=True)\n",
            "            (value): Linear(in_features=768, out_features=768, bias=True)\n",
            "            (dropout): Dropout(p=0.1, inplace=False)\n",
            "          )\n",
            "          (output): BertSelfOutput(\n",
            "            (dense): Linear(in_features=768, out_features=768, bias=True)\n",
            "            (LayerNorm): LayerNorm((768,), eps=1e-12, elementwise_affine=True)\n",
            "            (dropout): Dropout(p=0.1, inplace=False)\n",
            "          )\n",
            "        )\n",
            "        (intermediate): BertIntermediate(\n",
            "          (dense): Linear(in_features=768, out_features=3072, bias=True)\n",
            "          (intermediate_act_fn): GELUActivation()\n",
            "        )\n",
            "        (output): BertOutput(\n",
            "          (dense): Linear(in_features=3072, out_features=768, bias=True)\n",
            "          (LayerNorm): LayerNorm((768,), eps=1e-12, elementwise_affine=True)\n",
            "          (dropout): Dropout(p=0.1, inplace=False)\n",
            "        )\n",
            "      )\n",
            "    )\n",
            "  )\n",
            "  (pooler): BertPooler(\n",
            "    (dense): Linear(in_features=768, out_features=768, bias=True)\n",
            "    (activation): Tanh()\n",
            "  )\n",
            ")\n",
            "21128\n"
          ]
        }
      ],
      "source": [
        "from transformers import AutoModelForMaskedLM, BertModel # the difference is that the former class contains a head layer for specific MLM task;\n",
        "# BertModel is the base class, and we need to define the head layer e.g. the softmax\n",
        "\n",
        "checkpoint = 'bert-base-chinese'\n",
        "pre_trained_model = BertModel.from_pretrained(checkpoint)\n",
        "tokenizer = AutoTokenizer.from_pretrained(checkpoint)\n",
        "vocab_size = len(tokenizer)\n",
        "print(pre_trained_model)\n",
        "print(vocab_size)"
      ]
    },
    {
      "cell_type": "markdown",
      "metadata": {
        "id": "GqsGVYYQeYZu"
      },
      "source": [
        "Frozen all the parameters + Add the classiifcation layer (trainable)"
      ]
    },
    {
      "cell_type": "code",
      "execution_count": null,
      "metadata": {
        "id": "DgCcKn0YeYZu"
      },
      "outputs": [],
      "source": [
        "for param in pre_trained_model.parameters():\n",
        "    param.requires_grad_(False)"
      ]
    },
    {
      "cell_type": "code",
      "execution_count": null,
      "metadata": {
        "id": "qUJZ4c8leYZv"
      },
      "outputs": [],
      "source": [
        "class Model(torch.nn.Module):\n",
        "    def __init__(self, vocab_size, model):\n",
        "        super().__init__()\n",
        "        self.fc = torch.nn.Linear(768, vocab_size)\n",
        "        self.md = model\n",
        "\n",
        "    def forward(self, batch_inputs, batch_mask_id, label_id, labels=None):\n",
        "        input_data = batch_inputs\n",
        "        with torch.no_grad():\n",
        "            out = self.md(**input_data)\n",
        "\n",
        "        out = self.fc(out.last_hidden_state[:, batch_mask_id[0]]) # only works when the masking position is fixed (batch, vocab_size)\n",
        "        out = out[:,label_id] # we only want to explore the prediction on the label_id\n",
        "        return out"
      ]
    },
    {
      "cell_type": "code",
      "execution_count": null,
      "metadata": {
        "id": "69krPIXBeYZv",
        "outputId": "5e3204ac-40eb-4d09-a8eb-3e7f816b7290"
      },
      "outputs": [
        {
          "name": "stderr",
          "output_type": "stream",
          "text": [
            "c:\\Users\\JASONZ7\\.conda\\envs\\pytorch\\lib\\site-packages\\transformers\\optimization.py:429: FutureWarning: This implementation of AdamW is deprecated and will be removed in a future version. Use the PyTorch implementation torch.optim.AdamW instead, or set `no_deprecation_warning=True` to disable this warning\n",
            "  warnings.warn(\n"
          ]
        }
      ],
      "source": [
        "from transformers import AdamW\n",
        "from tqdm import tqdm\n",
        "# Hyper-parameters\n",
        "device = torch.device(\"cuda\" if torch.cuda.is_available() else \"cpu\")\n",
        "model = Model(vocab_size, pre_trained_model)\n",
        "model.to(device)\n",
        "\n",
        "# put data to GPU\n",
        "def to_device(batch_data):\n",
        "    new_batch_data = {}\n",
        "    for k, v in batch_data.items():\n",
        "        if k == 'batch_inputs':\n",
        "            new_batch_data[k] = {\n",
        "                k_: v_.to(device) for k_, v_ in v.items()\n",
        "            }\n",
        "        elif k == 'label_id':\n",
        "            new_batch_data[k] = v\n",
        "        else:\n",
        "            new_batch_data[k] = torch.tensor(v).to(device)\n",
        "    return new_batch_data\n",
        "\n",
        "optimizer = AdamW(model.parameters(), lr=4e-5)\n",
        "loss_fun = torch.nn.CrossEntropyLoss()\n",
        "num_epoch = 10\n",
        "batch_size = 32\n",
        "\n",
        "# encapsulate into the dataloader as input\n",
        "train_loader = DataLoader(train_data, batch_size=batch_size, shuffle=True, collate_fn=collate)\n",
        "valid_loader = DataLoader(valid_data, batch_size=batch_size, shuffle=True, collate_fn=collate)\n",
        "test_loader = DataLoader(test_data, batch_size=batch_size, shuffle=True, collate_fn=collate)\n",
        "\n",
        "# logs\n",
        "loss_hists = {'train':[],'val': []}\n",
        "acc_hists = {'train':[],'val': []}\n",
        "# batch_data = next(iter(train_loader))\n",
        "# batch_data = to_device(batch_data)\n",
        "# outputs = model(**batch_data)\n",
        "# print(outputs.shape)\n"
      ]
    },
    {
      "cell_type": "code",
      "execution_count": null,
      "metadata": {
        "id": "uAVPF2w0eYZv",
        "outputId": "91a076aa-419b-4d7c-ae93-83d0baa59d01"
      },
      "outputs": [
        {
          "name": "stderr",
          "output_type": "stream",
          "text": [
            "Epoch 1/10: 100%|██████████| 300/300 [02:51<00:00,  1.75it/s]\n"
          ]
        },
        {
          "name": "stdout",
          "output_type": "stream",
          "text": [
            "Epoch 1/10, Training Loss: 0.5979, Training accuracy: 0.7475\n",
            "Epoch 1/10, Validation loss: 0.5026, Validation accuracy: 0.8273\n"
          ]
        },
        {
          "name": "stderr",
          "output_type": "stream",
          "text": [
            "Epoch 2/10: 100%|██████████| 300/300 [03:07<00:00,  1.60it/s]\n"
          ]
        },
        {
          "name": "stdout",
          "output_type": "stream",
          "text": [
            "Epoch 2/10, Training Loss: 0.4896, Training accuracy: 0.8210\n",
            "Epoch 2/10, Validation loss: 0.4285, Validation accuracy: 0.8331\n"
          ]
        },
        {
          "name": "stderr",
          "output_type": "stream",
          "text": [
            "Epoch 3/10: 100%|██████████| 300/300 [03:14<00:00,  1.54it/s]\n"
          ]
        },
        {
          "name": "stdout",
          "output_type": "stream",
          "text": [
            "Epoch 3/10, Training Loss: 0.4415, Training accuracy: 0.8275\n",
            "Epoch 3/10, Validation loss: 0.3924, Validation accuracy: 0.8413\n"
          ]
        },
        {
          "name": "stderr",
          "output_type": "stream",
          "text": [
            "Epoch 4/10: 100%|██████████| 300/300 [03:15<00:00,  1.53it/s]\n"
          ]
        },
        {
          "name": "stdout",
          "output_type": "stream",
          "text": [
            "Epoch 4/10, Training Loss: 0.4139, Training accuracy: 0.8361\n",
            "Epoch 4/10, Validation loss: 0.3781, Validation accuracy: 0.8438\n"
          ]
        },
        {
          "name": "stderr",
          "output_type": "stream",
          "text": [
            "Epoch 5/10: 100%|██████████| 300/300 [03:11<00:00,  1.56it/s]\n"
          ]
        },
        {
          "name": "stdout",
          "output_type": "stream",
          "text": [
            "Epoch 5/10, Training Loss: 0.4000, Training accuracy: 0.8364\n",
            "Epoch 5/10, Validation loss: 0.3673, Validation accuracy: 0.8446\n"
          ]
        },
        {
          "name": "stderr",
          "output_type": "stream",
          "text": [
            "Epoch 6/10: 100%|██████████| 300/300 [03:13<00:00,  1.55it/s]\n"
          ]
        },
        {
          "name": "stdout",
          "output_type": "stream",
          "text": [
            "Epoch 6/10, Training Loss: 0.3874, Training accuracy: 0.8425\n",
            "Epoch 6/10, Validation loss: 0.3590, Validation accuracy: 0.8454\n"
          ]
        },
        {
          "name": "stderr",
          "output_type": "stream",
          "text": [
            "Epoch 7/10: 100%|██████████| 300/300 [03:16<00:00,  1.53it/s]\n"
          ]
        },
        {
          "name": "stdout",
          "output_type": "stream",
          "text": [
            "Epoch 7/10, Training Loss: 0.3796, Training accuracy: 0.8460\n",
            "Epoch 7/10, Validation loss: 0.3482, Validation accuracy: 0.8438\n"
          ]
        },
        {
          "name": "stderr",
          "output_type": "stream",
          "text": [
            "Epoch 8/10: 100%|██████████| 300/300 [03:13<00:00,  1.55it/s]\n"
          ]
        },
        {
          "name": "stdout",
          "output_type": "stream",
          "text": [
            "Epoch 8/10, Training Loss: 0.3776, Training accuracy: 0.8441\n",
            "Epoch 8/10, Validation loss: 0.3525, Validation accuracy: 0.8470\n"
          ]
        },
        {
          "name": "stderr",
          "output_type": "stream",
          "text": [
            "Epoch 9/10: 100%|██████████| 300/300 [03:18<00:00,  1.51it/s]\n"
          ]
        },
        {
          "name": "stdout",
          "output_type": "stream",
          "text": [
            "Epoch 9/10, Training Loss: 0.3680, Training accuracy: 0.8518\n",
            "Epoch 9/10, Validation loss: 0.3443, Validation accuracy: 0.8454\n"
          ]
        },
        {
          "name": "stderr",
          "output_type": "stream",
          "text": [
            "Epoch 10/10: 100%|██████████| 300/300 [03:18<00:00,  1.51it/s]\n"
          ]
        },
        {
          "name": "stdout",
          "output_type": "stream",
          "text": [
            "Epoch 10/10, Training Loss: 0.3640, Training accuracy: 0.8511\n",
            "Epoch 10/10, Validation loss: 0.3378, Validation accuracy: 0.8495\n"
          ]
        },
        {
          "data": {
            "image/png": "[encoded data removed]",
            "text/plain": [
              "<Figure size 640x480 with 2 Axes>"
            ]
          },
          "metadata": {},
          "output_type": "display_data"
        }
      ],
      "source": [
        "import matplotlib.pyplot as plt\n",
        "for epoch in range(num_epoch):\n",
        "    train_loss = 0\n",
        "    i = 1\n",
        "    correct_num = 0\n",
        "    for batch_data in tqdm(train_loader, desc=f\"Epoch {epoch + 1}/{num_epoch}\"):\n",
        "        model.train() # training mode\n",
        "        batch_data = to_device(batch_data)\n",
        "        output = model(**batch_data)\n",
        "        loss = loss_fun(output, batch_data['labels'])\n",
        "        loss.backward()\n",
        "        train_loss+=loss.item()\n",
        "\n",
        "        optimizer.step()\n",
        "        optimizer.zero_grad()# set gradient to 0 when batch is updated\n",
        "\n",
        "\n",
        "        # if i % 10 == 0: # record every 10 training batches\n",
        "        #     output = output.argmax(dim=1)\n",
        "        #     acc = (output == batch_data['labels']).sum().item()/ len(batch_data['labels'])\n",
        "        #     print(f'Training stage:Batch {i}, Loss: {loss.item()}, Accuracy: {acc}')\n",
        "\n",
        "        # if i % 30 == 0: # validate every 30 batches\n",
        "        #     model.eval()\n",
        "        #     batch_val = next(iter(valid_loader))\n",
        "        #     with torch.no_grad():\n",
        "        #         batch_val = to_device(batch_val)\n",
        "        #         output = model(**batch_val)\n",
        "        #     val_loss = loss_fun(output, torch.tensor(batch_val['labels']))\n",
        "        #     output = output.argmax(dim=1)\n",
        "        #     acc = (output == torch.tensor(batch_val['labels'])).sum().item()/ len(batch_val['labels'])\n",
        "        #     print(f'Validation stage:Batch {i}, Loss: {loss.item()}, Accuracy: {acc}')\n",
        "\n",
        "        # i+=1\n",
        "        output = output.argmax(dim=1)\n",
        "        correct_num += (output == batch_data['labels']).sum().item()\n",
        "\n",
        "    acc = correct_num/ (len(train_loader)*batch_size)\n",
        "    average_loss = train_loss/len(train_loader)\n",
        "    loss_hists['train'].append(average_loss)\n",
        "    acc_hists['train'].append(acc)\n",
        "    print(f\"Epoch {epoch + 1}/{num_epoch}, Training Loss: {average_loss:.4f}, Training accuracy: {acc:.4f}\")\n",
        "\n",
        "    # validation\n",
        "    model.eval()\n",
        "    with torch.no_grad():\n",
        "        val_loss = 0\n",
        "        correct_num = 0\n",
        "        for i, batch_data in enumerate(valid_loader):\n",
        "            batch_data = to_device(batch_data)\n",
        "            output = model(**batch_data)\n",
        "            loss = loss_fun(output, batch_data['labels'])\n",
        "            output = output.argmax(dim=1)\n",
        "\n",
        "            correct_num += (output == batch_data['labels']).sum().item()\n",
        "            val_loss+=loss\n",
        "\n",
        "        acc = correct_num/ (len(valid_loader)*batch_size)\n",
        "        average_val_loss = val_loss/len(valid_loader)\n",
        "\n",
        "        loss_hists['val'].append(average_val_loss)\n",
        "        acc_hists['val'].append(acc)\n",
        "        print(f'Epoch {epoch + 1}/{num_epoch}, Validation loss: {average_val_loss:.4f}, Validation accuracy: {acc:.4f}')\n",
        "\n",
        "\n",
        "torch.save(model.state_dict(), 'model_parameters.pth')\n",
        "torch.save(model, 'model_file.pth')\n",
        "\n",
        "# draw the loss figures\n",
        "fig, ax = plt.subplots(1,2)\n",
        "ax[0].plot(torch.tensor(loss_hists['train']).cpu().detach().numpy()) # can only matplotlib to plot numpy on CPU\n",
        "ax[0].plot(torch.tensor(loss_hists['val']).cpu().detach().numpy())\n",
        "ax[0].set_title('Loss-Epoch')\n",
        "ax[0].set_xlabel('Epoch')\n",
        "ax[0].set_ylabel('Loss')\n",
        "ax[0].legend(['Training loss', 'Validation loss'])\n",
        "\n",
        "ax[1].plot(torch.tensor(acc_hists['train']).cpu().detach().numpy())\n",
        "ax[1].plot(torch.tensor(acc_hists['val']).cpu().detach().numpy())\n",
        "ax[1].set_title('Acc-Epoch')\n",
        "ax[1].set_xlabel('Epoch')\n",
        "ax[1].set_ylabel('Accuracy')\n",
        "ax[1].legend(['Training acc', 'Validation acc'])\n",
        "plt.show()"
      ]
    },
    {
      "cell_type": "markdown",
      "metadata": {
        "id": "Qf2saALneYZv"
      },
      "source": [
        "# Method 2: LoRA fine-tuning"
      ]
    },
    {
      "cell_type": "code",
      "execution_count": null,
      "metadata": {
        "id": "euGeuurzeYZv",
        "outputId": "55ce3a39-2373-4e3f-eb6d-f8a81ed188e3"
      },
      "outputs": [
        {
          "name": "stdout",
          "output_type": "stream",
          "text": [
            "Requirement already satisfied: accelerate in c:\\users\\jasonz7\\.conda\\envs\\pytorch\\lib\\site-packages (0.27.2)\n",
            "Requirement already satisfied: loralib in c:\\users\\jasonz7\\.conda\\envs\\pytorch\\lib\\site-packages (0.1.2)\n",
            "Requirement already satisfied: peft in c:\\users\\jasonz7\\.conda\\envs\\pytorch\\lib\\site-packages (0.8.2)\n",
            "Requirement already satisfied: huggingface-hub in c:\\users\\jasonz7\\.conda\\envs\\pytorch\\lib\\site-packages (from accelerate) (0.20.3)\n",
            "Requirement already satisfied: pyyaml in c:\\users\\jasonz7\\.conda\\envs\\pytorch\\lib\\site-packages (from accelerate) (6.0.1)\n",
            "Requirement already satisfied: packaging>=20.0 in c:\\users\\jasonz7\\.conda\\envs\\pytorch\\lib\\site-packages (from accelerate) (23.0)\n",
            "Requirement already satisfied: numpy>=1.17 in c:\\users\\jasonz7\\.conda\\envs\\pytorch\\lib\\site-packages (from accelerate) (1.24.2)\n",
            "Requirement already satisfied: psutil in c:\\users\\jasonz7\\.conda\\envs\\pytorch\\lib\\site-packages (from accelerate) (5.9.0)\n",
            "Requirement already satisfied: torch>=1.10.0 in c:\\users\\jasonz7\\appdata\\roaming\\python\\python39\\site-packages (from accelerate) (1.13.1+cu116)\n",
            "Requirement already satisfied: safetensors>=0.3.1 in c:\\users\\jasonz7\\.conda\\envs\\pytorch\\lib\\site-packages (from accelerate) (0.4.2)\n",
            "Requirement already satisfied: transformers in c:\\users\\jasonz7\\.conda\\envs\\pytorch\\lib\\site-packages (from peft) (4.38.1)\n",
            "Requirement already satisfied: tqdm in c:\\users\\jasonz7\\.conda\\envs\\pytorch\\lib\\site-packages (from peft) (4.64.1)\n",
            "Requirement already satisfied: typing-extensions>=3.7.4.3 in c:\\users\\jasonz7\\.conda\\envs\\pytorch\\lib\\site-packages (from huggingface-hub->accelerate) (4.9.0)\n",
            "Requirement already satisfied: requests in c:\\users\\jasonz7\\.conda\\envs\\pytorch\\lib\\site-packages (from huggingface-hub->accelerate) (2.28.1)\n",
            "Requirement already satisfied: filelock in c:\\users\\jasonz7\\.conda\\envs\\pytorch\\lib\\site-packages (from huggingface-hub->accelerate) (3.13.1)\n",
            "Requirement already satisfied: fsspec>=2023.5.0 in c:\\users\\jasonz7\\.conda\\envs\\pytorch\\lib\\site-packages (from huggingface-hub->accelerate) (2023.10.0)\n",
            "Requirement already satisfied: colorama in c:\\users\\jasonz7\\.conda\\envs\\pytorch\\lib\\site-packages (from tqdm->peft) (0.4.6)\n",
            "Requirement already satisfied: tokenizers<0.19,>=0.14 in c:\\users\\jasonz7\\.conda\\envs\\pytorch\\lib\\site-packages (from transformers->peft) (0.15.1)\n",
            "Requirement already satisfied: regex!=2019.12.17 in c:\\users\\jasonz7\\.conda\\envs\\pytorch\\lib\\site-packages (from transformers->peft) (2023.12.25)\n",
            "Requirement already satisfied: charset-normalizer<3,>=2 in c:\\users\\jasonz7\\.conda\\envs\\pytorch\\lib\\site-packages (from requests->huggingface-hub->accelerate) (2.0.4)\n",
            "Requirement already satisfied: certifi>=2017.4.17 in c:\\users\\jasonz7\\.conda\\envs\\pytorch\\lib\\site-packages (from requests->huggingface-hub->accelerate) (2023.11.17)\n",
            "Requirement already satisfied: urllib3<1.27,>=1.21.1 in c:\\users\\jasonz7\\.conda\\envs\\pytorch\\lib\\site-packages (from requests->huggingface-hub->accelerate) (1.26.15)\n",
            "Requirement already satisfied: idna<4,>=2.5 in c:\\users\\jasonz7\\.conda\\envs\\pytorch\\lib\\site-packages (from requests->huggingface-hub->accelerate) (3.4)\n"
          ]
        },
        {
          "name": "stderr",
          "output_type": "stream",
          "text": [
            "WARNING: Ignoring invalid distribution -rotobuf (c:\\users\\jasonz7\\appdata\\roaming\\python\\python39\\site-packages)\n",
            "WARNING: Ignoring invalid distribution -rotobuf (c:\\users\\jasonz7\\appdata\\roaming\\python\\python39\\site-packages)\n",
            "WARNING: Ignoring invalid distribution -rotobuf (c:\\users\\jasonz7\\appdata\\roaming\\python\\python39\\site-packages)\n",
            "WARNING: Ignoring invalid distribution -rotobuf (c:\\users\\jasonz7\\appdata\\roaming\\python\\python39\\site-packages)\n",
            "WARNING: Ignoring invalid distribution -rotobuf (c:\\users\\jasonz7\\appdata\\roaming\\python\\python39\\site-packages)\n",
            "WARNING: Ignoring invalid distribution -rotobuf (c:\\users\\jasonz7\\appdata\\roaming\\python\\python39\\site-packages)\n"
          ]
        }
      ],
      "source": [
        "!pip install accelerate loralib peft"
      ]
    },
    {
      "cell_type": "code",
      "execution_count": null,
      "metadata": {
        "id": "FOChyQa9eYZv",
        "outputId": "a9ba79a1-af5c-4ce5-96cf-d694274220a6"
      },
      "outputs": [
        {
          "data": {
            "text/plain": [
              "True"
            ]
          },
          "execution_count": 14,
          "metadata": {},
          "output_type": "execute_result"
        }
      ],
      "source": [
        "import torch\n",
        "torch.cuda.is_available()"
      ]
    }
  ],
  "metadata": {
    "kernelspec": {
      "display_name": "pytorch",
      "language": "python",
      "name": "python3"
    },
    "language_info": {
      "codemirror_mode": {
        "name": "ipython",
        "version": 3
      },
      "file_extension": ".py",
      "mimetype": "text/x-python",
      "name": "python",
      "nbconvert_exporter": "python",
      "pygments_lexer": "ipython3",
      "version": "3.9.16"
    },
    "colab": {
      "provenance": [],
      "include_colab_link": true
    }
  },
  "nbformat": 4,
  "nbformat_minor": 0
}
